{
 "cells": [
  {
   "cell_type": "markdown",
   "metadata": {},
   "source": [
    "# Modelación del Movimiento - Módulo de Computación"
   ]
  },
  {
   "cell_type": "code",
   "execution_count": 32,
   "metadata": {},
   "outputs": [],
   "source": [
    "import numpy as np\n",
    "import matplotlib.pyplot as plt"
   ]
  },
  {
   "cell_type": "code",
   "execution_count": 33,
   "metadata": {},
   "outputs": [
    {
     "name": "stdout",
     "output_type": "stream",
     "text": [
      "x_i [2.  2.5 3.  3.5 4. ]\n",
      "x_f [6.1 6.  6.3 5.9 6.4]\n",
      "tr [7.  6.5 6.8 4.  3.8]\n",
      "delta_x [4.1 3.5 3.3 2.4 2.4]\n",
      "vm [0.58571429 0.53846154 0.48529412 0.6        0.63157895]\n"
     ]
    }
   ],
   "source": [
    "x_i= np.arange(2,4.5,0.5)\n",
    "x_f =np.array([6.1,6,6.3,5.9,6.4])\n",
    "tr = np.array([7,6.5,6.8,4,3.8])\n",
    "delta_x = x_f - x_i\n",
    "vm= delta_x / tr\n",
    "\n",
    "print(f'x_i {x_i}')\n",
    "print(f'x_f {x_f}')\n",
    "print(f'tr {tr}')\n",
    "print(f'delta_x {delta_x}')\n",
    "print(f'vm {vm}')\n"
   ]
  },
  {
   "cell_type": "code",
   "execution_count": 40,
   "metadata": {},
   "outputs": [
    {
     "name": "stdout",
     "output_type": "stream",
     "text": [
      "masa [0.5   0.525 0.55  0.575 0.6  ]\n",
      "k_m [0.08576531 0.07610947 0.06476535 0.1035     0.11966759]\n"
     ]
    }
   ],
   "source": [
    "masa = np.linspace(0.5 , 0.6 , 5)\n",
    "k_m = (masa*vm**2)/2\n",
    "print(f'masa {masa}')\n",
    "print(f'k_m {k_m}')\n",
    "\n"
   ]
  },
  {
   "cell_type": "code",
   "execution_count": 41,
   "metadata": {},
   "outputs": [
    {
     "name": "stdout",
     "output_type": "stream",
     "text": [
      "k_m [0.08576531 0.07610947 1.         0.1035     0.11966759]\n",
      "km_amarillo 1.0\n"
     ]
    }
   ],
   "source": [
    "k_m[2] = 1\n",
    "print(f'k_m {k_m}')\n",
    "km_amarillo = k_m[2]\n",
    "print(f'km_amarillo {km_amarillo}')"
   ]
  },
  {
   "cell_type": "code",
   "execution_count": 42,
   "metadata": {},
   "outputs": [
    {
     "name": "stdout",
     "output_type": "stream",
     "text": [
      "[0.5   0.525 0.55  0.575 0.6  ]\n",
      "[0.08576531 0.07610947 1.         0.1035     0.11966759]\n"
     ]
    },
    {
     "data": {
      "text/plain": [
       "[<matplotlib.lines.Line2D at 0x7fa0498348b0>]"
      ]
     },
     "execution_count": 42,
     "metadata": {},
     "output_type": "execute_result"
    },
    {
     "data": {
      "image/png": "[encoded data removed]",
      "text/plain": [
       "<Figure size 432x288 with 1 Axes>"
      ]
     },
     "metadata": {
      "needs_background": "light"
     },
     "output_type": "display_data"
    }
   ],
   "source": [
    "fig , ax = plt.subplots()\n",
    "print(masa)\n",
    "print(k_m)\n",
    "plt.plot(masa,k_m)"
   ]
  },
  {
   "cell_type": "code",
   "execution_count": 45,
   "metadata": {},
   "outputs": [
    {
     "data": {
      "text/plain": [
       "Text(0, 0.5, 'k_m (J)')"
      ]
     },
     "execution_count": 45,
     "metadata": {},
     "output_type": "execute_result"
    },
    {
     "data": {
      "image/png": "[encoded data removed]",
      "text/plain": [
       "<Figure size 432x288 with 1 Axes>"
      ]
     },
     "metadata": {
      "needs_background": "light"
     },
     "output_type": "display_data"
    }
   ],
   "source": [
    "plt.scatter(masa,k_m)\n",
    "plt.title(\"Energía cinética vs masa\")\n",
    "plt.xlabel(\"masa (kg)\")\n",
    "plt.ylabel(\"k_m (J)\")"
   ]
  }
 ],
 "metadata": {
  "interpreter": {
   "hash": "916dbcbb3f70747c44a77c7bcd40155683ae19c65e1c03b4aa3499c5328201f1"
  },
  "kernelspec": {
   "display_name": "Python 3.8.10 64-bit",
   "language": "python",
   "name": "python3"
  },
  "language_info": {
   "codemirror_mode": {
    "name": "ipython",
    "version": 3
   },
   "file_extension": ".py",
   "mimetype": "text/x-python",
   "name": "python",
   "nbconvert_exporter": "python",
   "pygments_lexer": "ipython3",
   "version": "3.8.10"
  },
  "orig_nbformat": 4
 },
 "nbformat": 4,
 "nbformat_minor": 2
}
