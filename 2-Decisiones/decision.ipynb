{
 "cells": [
  {
   "cell_type": "markdown",
   "metadata": {},
   "source": [
    "# Decisiones"
   ]
  },
  {
   "cell_type": "markdown",
   "metadata": {},
   "source": [
    "Los operadores de comparación generan operadores booleanos"
   ]
  },
  {
   "cell_type": "markdown",
   "metadata": {},
   "source": [
    "Los operadores son:\n",
    "- Mayor que >\n",
    "- Mayor igual>=\n",
    "- Menor <\n",
    "- Menor igual <=\n",
    "- Diferente !=\n",
    "- Igual ==\n"
   ]
  },
  {
   "cell_type": "code",
   "execution_count": 6,
   "metadata": {},
   "outputs": [
    {
     "name": "stdout",
     "output_type": "stream",
     "text": [
      "No me llamo Antonio ni PEdro\n"
     ]
    }
   ],
   "source": [
    "nombre = \"Antonios\"\n",
    "valor_booleano = nombre == \"Antonio\"\n",
    "if (valor_booleano):\n",
    "    print(f\"Mi nombre es {nombre}\")\n",
    "else:\n",
    "    if nombre == \"Pedro\":\n",
    "        print(\"Soy Pedro\")\n",
    "    else:\n",
    "        print(\"No me llamo Antonio ni PEdro\")"
   ]
  },
  {
   "cell_type": "markdown",
   "metadata": {},
   "source": [
    "## Usando elif"
   ]
  },
  {
   "cell_type": "code",
   "execution_count": 7,
   "metadata": {},
   "outputs": [
    {
     "name": "stdout",
     "output_type": "stream",
     "text": [
      "No me llamo Antonio ni PEdro\n"
     ]
    }
   ],
   "source": [
    "nombre = \"Antonios\"\n",
    "valor_booleano = nombre == \"Antonio\"\n",
    "if (valor_booleano):\n",
    "    print(f\"Mi nombre es {nombre}\")\n",
    "elif nombre == \"Pedro\":\n",
    "    print(\"Soy Pedro\")\n",
    "else:\n",
    "    print(\"No me llamo Antonio ni PEdro\")"
   ]
  },
  {
   "cell_type": "markdown",
   "metadata": {},
   "source": [
    "## Múltiples comparaciones\n",
    "\n",
    "- and   Cuando TODOS son verdaderos la expresión es verdadera\n",
    "- or    Cuando al menos UNO es verdero la expresión es verdadera\n",
    "- ! (not) "
   ]
  },
  {
   "cell_type": "code",
   "execution_count": 14,
   "metadata": {},
   "outputs": [
    {
     "name": "stdout",
     "output_type": "stream",
     "text": [
      "False\n",
      "Minombre no es Antonio o PEdro\n"
     ]
    }
   ],
   "source": [
    "nombre = \"Pedro\"\n",
    "apellido = \"Florecita\"\n",
    "valor_booleano = ((nombre == \"Antonio\" and  apellido == \"Ruiz\")or (nombre == \"Pedro\" and apellido == \"Flores\"))\n",
    "print(valor_booleano)\n",
    "if (valor_booleano):\n",
    "    print(f\"Mi nombre es {nombre}\")\n",
    "else\n",
    "    print (\"Minombre no es Antonio o PEdro Flores\")"
   ]
  },
  {
   "cell_type": "code",
   "execution_count": null,
   "metadata": {},
   "outputs": [],
   "source": []
  },
  {
   "cell_type": "code",
   "execution_count": null,
   "metadata": {},
   "outputs": [],
   "source": []
  },
  {
   "cell_type": "code",
   "execution_count": null,
   "metadata": {},
   "outputs": [],
   "source": []
  }
 ],
 "metadata": {
  "kernelspec": {
   "display_name": "Python 3.8.10 64-bit",
   "language": "python",
   "name": "python3"
  },
  "language_info": {
   "codemirror_mode": {
    "name": "ipython",
    "version": 3
   },
   "file_extension": ".py",
   "mimetype": "text/x-python",
   "name": "python",
   "nbconvert_exporter": "python",
   "pygments_lexer": "ipython3",
   "version": "3.8.10"
  },
  "orig_nbformat": 4,
  "vscode": {
   "interpreter": {
    "hash": "916dbcbb3f70747c44a77c7bcd40155683ae19c65e1c03b4aa3499c5328201f1"
   }
  }
 },
 "nbformat": 4,
 "nbformat_minor": 2
}
